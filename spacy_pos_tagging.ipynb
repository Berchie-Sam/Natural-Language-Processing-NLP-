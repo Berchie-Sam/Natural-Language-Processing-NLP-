{
 "cells": [
  {
   "cell_type": "code",
   "execution_count": 1,
   "metadata": {},
   "outputs": [],
   "source": [
    "import spacy"
   ]
  },
  {
   "cell_type": "code",
   "execution_count": 7,
   "metadata": {},
   "outputs": [],
   "source": [
    "nlp = spacy.load(\"en_core_web_sm\")"
   ]
  },
  {
   "cell_type": "code",
   "execution_count": 8,
   "metadata": {},
   "outputs": [
    {
     "data": {
      "text/plain": [
       "['tok2vec', 'tagger', 'parser', 'attribute_ruler', 'lemmatizer', 'ner']"
      ]
     },
     "execution_count": 8,
     "metadata": {},
     "output_type": "execute_result"
    }
   ],
   "source": [
    "nlp.pipe_names"
   ]
  },
  {
   "cell_type": "code",
   "execution_count": 10,
   "metadata": {},
   "outputs": [
    {
     "name": "stdout",
     "output_type": "stream",
     "text": [
      "Elon | PROPN | proper noun\n",
      "flew | VERB | verb\n",
      "a | DET | determiner\n",
      "space | NOUN | noun\n",
      "shuttle | NOUN | noun\n",
      "to | ADP | adposition\n",
      "Mars | PROPN | proper noun\n",
      "yesterday | NOUN | noun\n",
      ". | PUNCT | punctuation\n",
      "He | PRON | pronoun\n",
      "carried | VERB | verb\n",
      "the | DET | determiner\n",
      "Biryani | ADJ | adjective\n",
      "masala | NOUN | noun\n",
      "with | ADP | adposition\n",
      "him | PRON | pronoun\n",
      ". | PUNCT | punctuation\n"
     ]
    }
   ],
   "source": [
    "doc = nlp(\"Elon flew a space shuttle to Mars yesterday. He carried the Biryani masala with him.\")\n",
    "\n",
    "for token in doc:\n",
    "    print(token, \"|\", token.pos_, \"|\", spacy.explain(token.pos_))"
   ]
  },
  {
   "cell_type": "code",
   "execution_count": 15,
   "metadata": {},
   "outputs": [
    {
     "name": "stdout",
     "output_type": "stream",
     "text": [
      "Wow  |  INTJ  |  interjection  |  UH  |  interjection\n",
      "!  |  PUNCT  |  punctuation  |  .  |  punctuation mark, sentence closer\n",
      "Dr.  |  PROPN  |  proper noun  |  NNP  |  noun, proper singular\n",
      "Strange  |  PROPN  |  proper noun  |  NNP  |  noun, proper singular\n",
      "made  |  VERB  |  verb  |  VBD  |  verb, past tense\n",
      "$  |  SYM  |  symbol  |  $  |  symbol, currency\n",
      "265  |  NUM  |  numeral  |  CD  |  cardinal number\n",
      "million  |  NUM  |  numeral  |  CD  |  cardinal number\n",
      "on  |  ADP  |  adposition  |  IN  |  conjunction, subordinating or preposition\n",
      "the  |  DET  |  determiner  |  DT  |  determiner\n",
      "very  |  ADV  |  adverb  |  RB  |  adverb\n",
      "first  |  ADJ  |  adjective  |  JJ  |  adjective (English), other noun-modifier (Chinese)\n",
      "day  |  NOUN  |  noun  |  NN  |  noun, singular or mass\n",
      ".  |  PUNCT  |  punctuation  |  .  |  punctuation mark, sentence closer\n"
     ]
    }
   ],
   "source": [
    "docu = nlp(\"Wow! Dr. Strange made $265 million on the very first day.\")\n",
    "\n",
    "for token in docu:\n",
    "    print(token,\" | \", token.pos_,\" | \", spacy.explain(token.pos_)\n",
    "          ,\" | \", token.tag_,\" | \", spacy.explain(token.tag_))"
   ]
  },
  {
   "cell_type": "code",
   "execution_count": 20,
   "metadata": {},
   "outputs": [
    {
     "name": "stdout",
     "output_type": "stream",
     "text": [
      "quits | VBZ | verb, 3rd person singular present\n"
     ]
    }
   ],
   "source": [
    "doc1 = nlp(\"He quits the job.\")\n",
    "doc1[1]\n",
    "print(doc1[1].text, \"|\", doc1[1].tag_, \"|\", spacy.explain(doc1[1].tag_))"
   ]
  },
  {
   "cell_type": "code",
   "execution_count": 24,
   "metadata": {},
   "outputs": [],
   "source": [
    "earnings_text = \"\"\"Microsoft Corp. today announced the following results for the quarter ended December 31, 2023, as compared to the corresponding period of last fiscal year:\n",
    "\n",
    "·        Revenue was $62.0 billion and increased 18% (up 16% in constant currency)\n",
    "\n",
    "·        Operating income was $27.0 billion and increased 33%, and increased 25% non-GAAP (up 23% in constant currency)\n",
    "\n",
    "·        Net income was $21.9 billion and increased 33%, and increased 26% non-GAAP (up 23% in constant currency)\n",
    "\n",
    "·        Diluted earnings per share was $2.93 and increased 33%, and increased 26% non-GAAP (up 23% in constant currency) etc.\n",
    "\"\"\""
   ]
  },
  {
   "cell_type": "code",
   "execution_count": 32,
   "metadata": {},
   "outputs": [],
   "source": [
    "docu = nlp(earnings_text)\n",
    "filtered_tokens = []"
   ]
  },
  {
   "cell_type": "code",
   "execution_count": 33,
   "metadata": {},
   "outputs": [
    {
     "name": "stdout",
     "output_type": "stream",
     "text": [
      "Microsoft | PROPN | proper noun\n",
      "Corp. | PROPN | proper noun\n",
      "today | NOUN | noun\n",
      "announced | VERB | verb\n",
      "the | DET | determiner\n",
      "following | VERB | verb\n",
      "results | NOUN | noun\n",
      "for | ADP | adposition\n",
      "the | DET | determiner\n",
      "quarter | NOUN | noun\n",
      "ended | VERB | verb\n",
      "December | PROPN | proper noun\n",
      "31 | NUM | numeral\n",
      "2023 | NUM | numeral\n",
      "as | SCONJ | subordinating conjunction\n",
      "compared | VERB | verb\n",
      "to | ADP | adposition\n",
      "the | DET | determiner\n",
      "corresponding | ADJ | adjective\n",
      "period | NOUN | noun\n",
      "of | ADP | adposition\n",
      "last | ADJ | adjective\n",
      "fiscal | ADJ | adjective\n",
      "year | NOUN | noun\n",
      "Revenue | NOUN | noun\n",
      "was | AUX | auxiliary\n",
      "$ | SYM | symbol\n",
      "62.0 | NUM | numeral\n",
      "billion | NUM | numeral\n",
      "and | CCONJ | coordinating conjunction\n",
      "increased | VERB | verb\n",
      "18 | NUM | numeral\n",
      "% | NOUN | noun\n",
      "up | ADV | adverb\n",
      "16 | NUM | numeral\n",
      "% | NOUN | noun\n",
      "in | ADP | adposition\n",
      "constant | ADJ | adjective\n",
      "currency | NOUN | noun\n",
      "Operating | VERB | verb\n",
      "income | NOUN | noun\n",
      "was | AUX | auxiliary\n",
      "$ | SYM | symbol\n",
      "27.0 | NUM | numeral\n",
      "billion | NUM | numeral\n",
      "and | CCONJ | coordinating conjunction\n",
      "increased | VERB | verb\n",
      "33 | NUM | numeral\n",
      "% | NOUN | noun\n",
      "and | CCONJ | coordinating conjunction\n",
      "increased | VERB | verb\n",
      "25 | NUM | numeral\n",
      "% | NOUN | noun\n",
      "non | NOUN | noun\n",
      "- | NOUN | noun\n",
      "GAAP | NOUN | noun\n",
      "up | ADV | adverb\n",
      "23 | NUM | numeral\n",
      "% | NOUN | noun\n",
      "in | ADP | adposition\n",
      "constant | ADJ | adjective\n",
      "currency | NOUN | noun\n",
      "Net | ADJ | adjective\n",
      "income | NOUN | noun\n",
      "was | AUX | auxiliary\n",
      "$ | SYM | symbol\n",
      "21.9 | NUM | numeral\n",
      "billion | NUM | numeral\n",
      "and | CCONJ | coordinating conjunction\n",
      "increased | VERB | verb\n",
      "33 | NUM | numeral\n",
      "% | NOUN | noun\n",
      "and | CCONJ | coordinating conjunction\n",
      "increased | VERB | verb\n",
      "26 | NUM | numeral\n",
      "% | NOUN | noun\n",
      "non | NOUN | noun\n",
      "- | NOUN | noun\n",
      "GAAP | NOUN | noun\n",
      "up | ADV | adverb\n",
      "23 | NUM | numeral\n",
      "% | NOUN | noun\n",
      "in | ADP | adposition\n",
      "constant | ADJ | adjective\n",
      "currency | NOUN | noun\n",
      "Diluted | VERB | verb\n",
      "earnings | NOUN | noun\n",
      "per | ADP | adposition\n",
      "share | NOUN | noun\n",
      "was | AUX | auxiliary\n",
      "$ | SYM | symbol\n",
      "2.93 | NUM | numeral\n",
      "and | CCONJ | coordinating conjunction\n",
      "increased | VERB | verb\n",
      "33 | NUM | numeral\n",
      "% | NOUN | noun\n",
      "and | CCONJ | coordinating conjunction\n",
      "increased | VERB | verb\n",
      "26 | NUM | numeral\n",
      "% | NOUN | noun\n",
      "non | NOUN | noun\n",
      "- | NOUN | noun\n",
      "GAAP | NOUN | noun\n",
      "up | ADV | adverb\n",
      "23 | NUM | numeral\n",
      "% | NOUN | noun\n",
      "in | ADP | adposition\n",
      "constant | ADJ | adjective\n",
      "currency | NOUN | noun\n"
     ]
    }
   ],
   "source": [
    "for token in doc:\n",
    "    if token.pos_ not in [\"SPACE\", \"X\", \"PUNCT\"]:\n",
    "        filtered_tokens.append(token)\n",
    "        print(token, \"|\", token.pos_, \"|\", spacy.explain(token.pos_))"
   ]
  },
  {
   "cell_type": "code",
   "execution_count": 34,
   "metadata": {},
   "outputs": [
    {
     "data": {
      "text/plain": [
       "[Microsoft,\n",
       " Corp.,\n",
       " today,\n",
       " announced,\n",
       " the,\n",
       " following,\n",
       " results,\n",
       " for,\n",
       " the,\n",
       " quarter,\n",
       " ended,\n",
       " December,\n",
       " 31,\n",
       " 2023,\n",
       " as,\n",
       " compared,\n",
       " to,\n",
       " the,\n",
       " corresponding,\n",
       " period,\n",
       " of,\n",
       " last,\n",
       " fiscal,\n",
       " year,\n",
       " Revenue,\n",
       " was,\n",
       " $,\n",
       " 62.0,\n",
       " billion,\n",
       " and,\n",
       " increased,\n",
       " 18,\n",
       " %,\n",
       " up,\n",
       " 16,\n",
       " %,\n",
       " in,\n",
       " constant,\n",
       " currency,\n",
       " Operating,\n",
       " income,\n",
       " was,\n",
       " $,\n",
       " 27.0,\n",
       " billion,\n",
       " and,\n",
       " increased,\n",
       " 33,\n",
       " %,\n",
       " and,\n",
       " increased,\n",
       " 25,\n",
       " %,\n",
       " non,\n",
       " -,\n",
       " GAAP,\n",
       " up,\n",
       " 23,\n",
       " %,\n",
       " in,\n",
       " constant,\n",
       " currency,\n",
       " Net,\n",
       " income,\n",
       " was,\n",
       " $,\n",
       " 21.9,\n",
       " billion,\n",
       " and,\n",
       " increased,\n",
       " 33,\n",
       " %,\n",
       " and,\n",
       " increased,\n",
       " 26,\n",
       " %,\n",
       " non,\n",
       " -,\n",
       " GAAP,\n",
       " up,\n",
       " 23,\n",
       " %,\n",
       " in,\n",
       " constant,\n",
       " currency,\n",
       " Diluted,\n",
       " earnings,\n",
       " per,\n",
       " share,\n",
       " was,\n",
       " $,\n",
       " 2.93,\n",
       " and,\n",
       " increased,\n",
       " 33,\n",
       " %,\n",
       " and,\n",
       " increased,\n",
       " 26,\n",
       " %,\n",
       " non,\n",
       " -,\n",
       " GAAP,\n",
       " up,\n",
       " 23,\n",
       " %,\n",
       " in,\n",
       " constant,\n",
       " currency]"
      ]
     },
     "execution_count": 34,
     "metadata": {},
     "output_type": "execute_result"
    }
   ],
   "source": [
    "filtered_tokens[:]"
   ]
  },
  {
   "cell_type": "code",
   "execution_count": 36,
   "metadata": {},
   "outputs": [
    {
     "data": {
      "text/plain": [
       "{96: 3,\n",
       " 92: 34,\n",
       " 100: 13,\n",
       " 90: 3,\n",
       " 85: 8,\n",
       " 93: 20,\n",
       " 97: 18,\n",
       " 98: 1,\n",
       " 84: 8,\n",
       " 103: 9,\n",
       " 87: 4,\n",
       " 99: 4,\n",
       " 89: 7,\n",
       " 86: 4}"
      ]
     },
     "execution_count": 36,
     "metadata": {},
     "output_type": "execute_result"
    }
   ],
   "source": [
    "count = doc.count_by(spacy.attrs.POS)\n",
    "count"
   ]
  },
  {
   "cell_type": "code",
   "execution_count": 39,
   "metadata": {},
   "outputs": [
    {
     "name": "stdout",
     "output_type": "stream",
     "text": [
      "PROPN | 3\n",
      "NOUN | 34\n",
      "VERB | 13\n",
      "DET | 3\n",
      "ADP | 8\n",
      "NUM | 20\n",
      "PUNCT | 18\n",
      "SCONJ | 1\n",
      "ADJ | 8\n",
      "SPACE | 9\n",
      "AUX | 4\n",
      "SYM | 4\n",
      "CCONJ | 7\n",
      "ADV | 4\n"
     ]
    }
   ],
   "source": [
    "for k,v in count.items():\n",
    "    print(doc.vocab[k].text, \"|\", v)\n",
    "\n",
    "#doc.vocab[96].text"
   ]
  },
  {
   "cell_type": "code",
   "execution_count": null,
   "metadata": {},
   "outputs": [],
   "source": []
  }
 ],
 "metadata": {
  "kernelspec": {
   "display_name": "mlopsenv",
   "language": "python",
   "name": "mlopsenv"
  },
  "language_info": {
   "codemirror_mode": {
    "name": "ipython",
    "version": 3
   },
   "file_extension": ".py",
   "mimetype": "text/x-python",
   "name": "python",
   "nbconvert_exporter": "python",
   "pygments_lexer": "ipython3",
   "version": "3.9.13"
  }
 },
 "nbformat": 4,
 "nbformat_minor": 2
}
